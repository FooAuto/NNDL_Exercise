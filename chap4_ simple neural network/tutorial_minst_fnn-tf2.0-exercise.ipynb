{
 "cells": [
  {
   "cell_type": "markdown",
   "metadata": {},
   "source": [
    "## 准备数据"
   ]
  },
  {
   "cell_type": "code",
   "execution_count": 1,
   "metadata": {},
   "outputs": [],
   "source": [
    "import os\n",
    "import numpy as np\n",
    "import tensorflow as tf\n",
    "from tensorflow import keras\n",
    "from tensorflow.keras import layers, optimizers, datasets\n",
    "\n",
    "os.environ['TF_CPP_MIN_LOG_LEVEL'] = '2'  # or any {'0', '1', '2'}\n",
    "\n",
    "def mnist_dataset():\n",
    "    (x, y), (x_test, y_test) = datasets.mnist.load_data()\n",
    "    #normalize\n",
    "    x = x/255.0\n",
    "    x_test = x_test/255.0\n",
    "    \n",
    "    return (x, y), (x_test, y_test)"
   ]
  },
  {
   "cell_type": "code",
   "execution_count": 2,
   "metadata": {},
   "outputs": [
    {
     "name": "stdout",
     "output_type": "stream",
     "text": [
      "[(1, 'a'), (2, 'b'), (3, 'c'), (4, 'd')]\n"
     ]
    }
   ],
   "source": [
    "print(list(zip([1, 2, 3, 4], ['a', 'b', 'c', 'd'])))"
   ]
  },
  {
   "cell_type": "markdown",
   "metadata": {},
   "source": [
    "## 建立模型"
   ]
  },
  {
   "cell_type": "code",
   "execution_count": 7,
   "metadata": {},
   "outputs": [],
   "source": [
    "class myModel:\n",
    "    def __init__(self):\n",
    "        ####################\n",
    "        '''声明模型对应的参数'''\n",
    "        ####################\n",
    "        # 模仿numpy网络结构去实现\n",
    "        self.W1 = tf.Variable(tf.random.normal([28*28, 100]))\n",
    "        self.b1 = tf.Variable(tf.zeros([100]))\n",
    "        self.W2 = tf.Variable(tf.random.normal([100, 10]))\n",
    "        self.b2 = tf.Variable(tf.zeros([10]))\n",
    "    def __call__(self, x):\n",
    "        ####################\n",
    "        '''实现模型函数体，返回未归一化的logits'''\n",
    "        ####################\n",
    "        x = tf.reshape(x, (-1, 28*28))\n",
    "        h1 = tf.nn.relu(tf.matmul(x, self.W1) + self.b1)\n",
    "        logits = tf.matmul(h1, self.W2) + self.b2\n",
    "        return logits\n",
    "        \n",
    "model = myModel()\n",
    "\n",
    "optimizer = optimizers.Adam()"
   ]
  },
  {
   "cell_type": "markdown",
   "metadata": {},
   "source": [
    "## 计算 loss"
   ]
  },
  {
   "cell_type": "code",
   "execution_count": 4,
   "metadata": {},
   "outputs": [],
   "source": [
    "@tf.function\n",
    "def compute_loss(logits, labels):\n",
    "    return tf.reduce_mean(\n",
    "        tf.nn.sparse_softmax_cross_entropy_with_logits(\n",
    "            logits=logits, labels=labels))\n",
    "\n",
    "@tf.function\n",
    "def compute_accuracy(logits, labels):\n",
    "    predictions = tf.argmax(logits, axis=1)\n",
    "    return tf.reduce_mean(tf.cast(tf.equal(predictions, labels), tf.float32))\n",
    "\n",
    "@tf.function\n",
    "def train_one_step(model, optimizer, x, y):\n",
    "    with tf.GradientTape() as tape:\n",
    "        logits = model(x)\n",
    "        loss = compute_loss(logits, y)\n",
    "\n",
    "    # compute gradient\n",
    "    trainable_vars = [model.W1, model.W2, model.b1, model.b2]\n",
    "    grads = tape.gradient(loss, trainable_vars)\n",
    "    for g, v in zip(grads, trainable_vars):\n",
    "        v.assign_sub(0.01*g)\n",
    "\n",
    "    accuracy = compute_accuracy(logits, y)\n",
    "\n",
    "    # loss and accuracy is scalar tensor\n",
    "    return loss, accuracy\n",
    "\n",
    "@tf.function\n",
    "def test(model, x, y):\n",
    "    logits = model(x)\n",
    "    loss = compute_loss(logits, y)\n",
    "    accuracy = compute_accuracy(logits, y)\n",
    "    return loss, accuracy"
   ]
  },
  {
   "cell_type": "markdown",
   "metadata": {},
   "source": [
    "## 实际训练"
   ]
  },
  {
   "cell_type": "code",
   "execution_count": 9,
   "metadata": {},
   "outputs": [
    {
     "name": "stdout",
     "output_type": "stream",
     "text": [
      "epoch 0 : loss 26.30102 ; accuracy 0.33415\n",
      "epoch 1 : loss 26.009674 ; accuracy 0.33793333\n",
      "epoch 2 : loss 25.7251 ; accuracy 0.34171668\n",
      "epoch 3 : loss 25.447124 ; accuracy 0.34541667\n",
      "epoch 4 : loss 25.175575 ; accuracy 0.34935\n",
      "epoch 5 : loss 24.910305 ; accuracy 0.35316667\n",
      "epoch 6 : loss 24.651054 ; accuracy 0.35688335\n",
      "epoch 7 : loss 24.397558 ; accuracy 0.36026666\n",
      "epoch 8 : loss 24.14957 ; accuracy 0.36361668\n",
      "epoch 9 : loss 23.9068 ; accuracy 0.36715\n",
      "epoch 10 : loss 23.669035 ; accuracy 0.37036666\n",
      "epoch 11 : loss 23.436092 ; accuracy 0.37333333\n",
      "epoch 12 : loss 23.20779 ; accuracy 0.37656668\n",
      "epoch 13 : loss 22.98405 ; accuracy 0.37998334\n",
      "epoch 14 : loss 22.76478 ; accuracy 0.38295\n",
      "epoch 15 : loss 22.549894 ; accuracy 0.38623333\n",
      "epoch 16 : loss 22.33922 ; accuracy 0.38961667\n",
      "epoch 17 : loss 22.132685 ; accuracy 0.39248332\n",
      "epoch 18 : loss 21.930191 ; accuracy 0.39543334\n",
      "epoch 19 : loss 21.731659 ; accuracy 0.39881667\n",
      "epoch 20 : loss 21.536978 ; accuracy 0.40121666\n",
      "epoch 21 : loss 21.34605 ; accuracy 0.40446666\n",
      "epoch 22 : loss 21.158855 ; accuracy 0.4077\n",
      "epoch 23 : loss 20.975248 ; accuracy 0.41053334\n",
      "epoch 24 : loss 20.795074 ; accuracy 0.4131\n",
      "epoch 25 : loss 20.618256 ; accuracy 0.41536668\n",
      "epoch 26 : loss 20.444725 ; accuracy 0.4183\n",
      "epoch 27 : loss 20.274471 ; accuracy 0.42091668\n",
      "epoch 28 : loss 20.10742 ; accuracy 0.42431667\n",
      "epoch 29 : loss 19.943476 ; accuracy 0.4272\n",
      "epoch 30 : loss 19.782497 ; accuracy 0.42986667\n",
      "epoch 31 : loss 19.624414 ; accuracy 0.43211666\n",
      "epoch 32 : loss 19.469143 ; accuracy 0.43465\n",
      "epoch 33 : loss 19.31663 ; accuracy 0.4373\n",
      "epoch 34 : loss 19.166817 ; accuracy 0.43985\n",
      "epoch 35 : loss 19.019596 ; accuracy 0.44241667\n",
      "epoch 36 : loss 18.874895 ; accuracy 0.44468334\n",
      "epoch 37 : loss 18.732655 ; accuracy 0.44698334\n",
      "epoch 38 : loss 18.592842 ; accuracy 0.44938335\n",
      "epoch 39 : loss 18.455437 ; accuracy 0.45173332\n",
      "epoch 40 : loss 18.320372 ; accuracy 0.45388332\n",
      "epoch 41 : loss 18.18758 ; accuracy 0.4563\n",
      "epoch 42 : loss 18.057041 ; accuracy 0.45891666\n",
      "epoch 43 : loss 17.92865 ; accuracy 0.46125\n",
      "epoch 44 : loss 17.802317 ; accuracy 0.46333334\n",
      "epoch 45 : loss 17.677992 ; accuracy 0.46536666\n",
      "epoch 46 : loss 17.555653 ; accuracy 0.46758333\n",
      "epoch 47 : loss 17.435213 ; accuracy 0.46945\n",
      "epoch 48 : loss 17.316656 ; accuracy 0.47168332\n",
      "epoch 49 : loss 17.199944 ; accuracy 0.47368333\n",
      "epoch 50 : loss 17.085 ; accuracy 0.47595\n",
      "epoch 51 : loss 16.971788 ; accuracy 0.4782\n",
      "epoch 52 : loss 16.86033 ; accuracy 0.47993332\n",
      "epoch 53 : loss 16.750607 ; accuracy 0.4817\n",
      "epoch 54 : loss 16.642565 ; accuracy 0.48393333\n",
      "epoch 55 : loss 16.536182 ; accuracy 0.48593333\n",
      "epoch 56 : loss 16.43143 ; accuracy 0.48805\n",
      "epoch 57 : loss 16.32826 ; accuracy 0.49008334\n",
      "epoch 58 : loss 16.226645 ; accuracy 0.492\n",
      "epoch 59 : loss 16.12658 ; accuracy 0.49391666\n",
      "epoch 60 : loss 16.027988 ; accuracy 0.49588335\n",
      "epoch 61 : loss 15.930825 ; accuracy 0.49756667\n",
      "epoch 62 : loss 15.835065 ; accuracy 0.49903333\n",
      "epoch 63 : loss 15.740668 ; accuracy 0.5008\n",
      "epoch 64 : loss 15.647594 ; accuracy 0.50255\n",
      "epoch 65 : loss 15.555819 ; accuracy 0.5042167\n",
      "epoch 66 : loss 15.465342 ; accuracy 0.5062\n",
      "epoch 67 : loss 15.376133 ; accuracy 0.5078167\n",
      "epoch 68 : loss 15.288186 ; accuracy 0.5096167\n",
      "epoch 69 : loss 15.201474 ; accuracy 0.5114167\n",
      "epoch 70 : loss 15.115967 ; accuracy 0.51313335\n",
      "epoch 71 : loss 15.031638 ; accuracy 0.51493335\n",
      "epoch 72 : loss 14.948473 ; accuracy 0.5164\n",
      "epoch 73 : loss 14.866427 ; accuracy 0.5181\n",
      "epoch 74 : loss 14.785496 ; accuracy 0.5197333\n",
      "epoch 75 : loss 14.705668 ; accuracy 0.52125\n",
      "epoch 76 : loss 14.626931 ; accuracy 0.5230167\n",
      "epoch 77 : loss 14.549256 ; accuracy 0.52491665\n",
      "epoch 78 : loss 14.472608 ; accuracy 0.52645\n",
      "epoch 79 : loss 14.396973 ; accuracy 0.5280167\n",
      "epoch 80 : loss 14.322335 ; accuracy 0.5296\n",
      "epoch 81 : loss 14.248695 ; accuracy 0.53106666\n",
      "epoch 82 : loss 14.176022 ; accuracy 0.53253335\n",
      "epoch 83 : loss 14.104313 ; accuracy 0.53421664\n",
      "epoch 84 : loss 14.03354 ; accuracy 0.53583336\n",
      "epoch 85 : loss 13.963662 ; accuracy 0.53718334\n",
      "epoch 86 : loss 13.894677 ; accuracy 0.53868335\n",
      "epoch 87 : loss 13.826559 ; accuracy 0.53998333\n",
      "epoch 88 : loss 13.759273 ; accuracy 0.54151666\n",
      "epoch 89 : loss 13.692802 ; accuracy 0.54288334\n",
      "epoch 90 : loss 13.627148 ; accuracy 0.54438335\n",
      "epoch 91 : loss 13.562302 ; accuracy 0.5459333\n",
      "epoch 92 : loss 13.498237 ; accuracy 0.54725\n",
      "epoch 93 : loss 13.434934 ; accuracy 0.5485167\n",
      "epoch 94 : loss 13.372398 ; accuracy 0.54965\n",
      "epoch 95 : loss 13.310606 ; accuracy 0.5510333\n",
      "epoch 96 : loss 13.249515 ; accuracy 0.55225\n",
      "epoch 97 : loss 13.189129 ; accuracy 0.5535167\n",
      "epoch 98 : loss 13.129457 ; accuracy 0.5545833\n",
      "epoch 99 : loss 13.070462 ; accuracy 0.55581665\n",
      "test loss 13.01019 ; accuracy 0.5591\n"
     ]
    }
   ],
   "source": [
    "train_data, test_data = mnist_dataset()\n",
    "for epoch in range(100):\n",
    "    loss, accuracy = train_one_step(model, optimizer, \n",
    "                                    tf.constant(train_data[0], dtype=tf.float32), \n",
    "                                    tf.constant(train_data[1], dtype=tf.int64))\n",
    "    print('epoch', epoch, ': loss', loss.numpy(), '; accuracy', accuracy.numpy())\n",
    "loss, accuracy = test(model, \n",
    "                      tf.constant(test_data[0], dtype=tf.float32), \n",
    "                      tf.constant(test_data[1], dtype=tf.int64))\n",
    "\n",
    "print('test loss', loss.numpy(), '; accuracy', accuracy.numpy())"
   ]
  }
 ],
 "metadata": {
  "kernelspec": {
   "display_name": "nndl",
   "language": "python",
   "name": "python3"
  },
  "language_info": {
   "codemirror_mode": {
    "name": "ipython",
    "version": 3
   },
   "file_extension": ".py",
   "mimetype": "text/x-python",
   "name": "python",
   "nbconvert_exporter": "python",
   "pygments_lexer": "ipython3",
   "version": "3.8.20"
  }
 },
 "nbformat": 4,
 "nbformat_minor": 2
}
